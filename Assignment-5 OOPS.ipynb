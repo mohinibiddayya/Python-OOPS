{
 "cells": [
  {
   "cell_type": "code",
   "execution_count": null,
   "metadata": {},
   "outputs": [],
   "source": [
    "# 1. What are the five key concepts of Object-Oriented Programming (OOP)?"
   ]
  },
  {
   "cell_type": "markdown",
   "metadata": {},
   "source": [
    "The following are the five main ideas of object-oriented programming, or OOP:\n",
    "\n",
    "1. Encapsulation: This concept entails combining methods (functions) that manipulate data with attributes to form a single unit known as an object. It facilitates modularity and simplifies the object by limiting direct access to some of its components.\n",
    "\n",
    "2. Abstraction: Abstraction aims to reveal only the elements that are absolutely necessary, while concealing the intricate intricacies of a system's implementation. As a result, people can engage with objects at a high level without having to comprehend all of their intricate workings.\n",
    "\n",
    "3. A new class (subclass) can inherit attributes and methods (behaviors) from an existing class (superclass) thanks to the idea of inheritance. Inheritance creates a hierarchical link between classes and encourages code reuse.\n",
    "\n",
    "4. Polymorphism: This property allows objects of distinct classes to be handled as if they were members of the same superclass. It permits the definition of methods in many ways, usually by way of overloading (several methods with the same name but different parameters) or overriding (a subclass with a specific implementation).\n",
    "5. Composition: Composition is the process of creating large items by assembling simpler ones, but it is sometimes regarded as a subset of encapsulation. One thing that contains or is made up of other objects is said to have a \"has-a\" relationship in this situation.\n"
   ]
  },
  {
   "cell_type": "code",
   "execution_count": null,
   "metadata": {},
   "outputs": [],
   "source": [
    "# 2. Write a Python class for a `Car` with attributes for `make`, `model`, and `year`. Include a method to display the car's information.\n"
   ]
  },
  {
   "cell_type": "code",
   "execution_count": 1,
   "metadata": {},
   "outputs": [
    {
     "name": "stdout",
     "output_type": "stream",
     "text": [
      "Car Information:\n",
      "Make: Toyota\n",
      "Model: Camry\n",
      "Year: 2020\n"
     ]
    }
   ],
   "source": [
    "class Car:\n",
    "    def __init__(self, make, model, year):\n",
    "        self.make = make\n",
    "        self.model = model\n",
    "        self.year = year\n",
    "\n",
    "    def display_info(self):\n",
    "        print(f\"Car Information:\\nMake: {self.make}\\nModel: {self.model}\\nYear: {self.year}\")\n",
    "\n",
    "# Example usage:\n",
    "my_car = Car(\"Toyota\", \"Camry\", 2020)\n",
    "my_car.display_info()\n"
   ]
  },
  {
   "cell_type": "code",
   "execution_count": null,
   "metadata": {},
   "outputs": [],
   "source": [
    "# 3. Explain the difference between instance methods and class methods. Provide an example of each."
   ]
  },
  {
   "cell_type": "markdown",
   "metadata": {},
   "source": [
    "Definition : They may access and change the attributes of an instance of the class (an object) on which they operate.\n",
    "Access: They take self, which is the instance itself, as the first parameter when they are called on a class instance."
   ]
  },
  {
   "cell_type": "code",
   "execution_count": 2,
   "metadata": {},
   "outputs": [
    {
     "name": "stdout",
     "output_type": "stream",
     "text": [
      "Buddy says woof!\n"
     ]
    }
   ],
   "source": [
    "class Dog:\n",
    "    def __init__(self, name, age):\n",
    "        self.name = name\n",
    "        self.age = age\n",
    "\n",
    "    def bark(self):\n",
    "        return f\"{self.name} says woof!\"\n",
    "\n",
    "# Example usage:\n",
    "my_dog = Dog(\"Buddy\", 3)\n",
    "print(my_dog.bark())  # Output: Buddy says woof!\n"
   ]
  },
  {
   "cell_type": "markdown",
   "metadata": {},
   "source": [
    "Definition : Class methods are methods that work on the class itself as opposed to class instances. Class-level properties are accessible and modifiable through their use.\n",
    "Access: They are called on the class itself and take cls as the first parameter, which refers to the class. Class methods are defined using the at  class method decorator."
   ]
  },
  {
   "cell_type": "code",
   "execution_count": 1,
   "metadata": {},
   "outputs": [
    {
     "name": "stdout",
     "output_type": "stream",
     "text": [
      "0\n",
      "1\n"
     ]
    }
   ],
   "source": [
    "class Dog:\n",
    "    population = 0  # Class-level attribute\n",
    "\n",
    "    def __init__(self, name, age):\n",
    "        self.name = name\n",
    "        self.age = age\n",
    "        Dog.population += 1  # Increment class-level attribute\n",
    "\n",
    "    @classmethod\n",
    "    def get_population(cls):\n",
    "        return cls.population\n",
    "\n",
    "# Example usage:\n",
    "print(Dog.get_population())  # Output: 0\n",
    "my_dog = Dog(\"Buddy\", 3)\n",
    "print(Dog.get_population())  # Output: 1\n"
   ]
  },
  {
   "cell_type": "code",
   "execution_count": null,
   "metadata": {},
   "outputs": [],
   "source": [
    "# 4. How does Python implement method overloading? Give an example"
   ]
  },
  {
   "cell_type": "markdown",
   "metadata": {},
   "source": [
    "Python enables the definition of a single method that can handle various kinds or quantities of parameters. Similar functionality can be obtained by validating the kinds or quantity of arguments manually, using variable-length arguments (*args and **kwargs), or using default arguments."
   ]
  },
  {
   "cell_type": "code",
   "execution_count": 2,
   "metadata": {},
   "outputs": [
    {
     "name": "stdout",
     "output_type": "stream",
     "text": [
      "5\n",
      "9\n"
     ]
    }
   ],
   "source": [
    "class Calculator:\n",
    "    def add(self, a, b, c=0):\n",
    "        return a + b + c\n",
    "\n",
    "# Example usage:\n",
    "calc = Calculator()\n",
    "print(calc.add(2, 3))       # Output: 5 (uses a and b)\n",
    "print(calc.add(2, 3, 4))    # Output: 9 (uses a, b, and c)\n"
   ]
  },
  {
   "cell_type": "code",
   "execution_count": 3,
   "metadata": {},
   "outputs": [
    {
     "name": "stdout",
     "output_type": "stream",
     "text": [
      "3\n",
      "15\n"
     ]
    }
   ],
   "source": [
    "# Using *args for Variable-Length Arguments\n",
    "class Calculator:\n",
    "    def add(self, *args):\n",
    "        return sum(args)\n",
    "\n",
    "# Example usage:\n",
    "calc = Calculator()\n",
    "print(calc.add(1, 2))           # Output: 3\n",
    "print(calc.add(1, 2, 3, 4, 5))  # Output: 15\n"
   ]
  },
  {
   "cell_type": "code",
   "execution_count": 4,
   "metadata": {},
   "outputs": [
    {
     "name": "stdout",
     "output_type": "stream",
     "text": [
      "String: Hello\n",
      "Integer: 42\n",
      "Unsupported type\n"
     ]
    }
   ],
   "source": [
    "#  Using Type Checking\n",
    "class Printer:\n",
    "    def print_value(self, value):\n",
    "        if isinstance(value, str):\n",
    "            print(f\"String: {value}\")\n",
    "        elif isinstance(value, int):\n",
    "            print(f\"Integer: {value}\")\n",
    "        else:\n",
    "            print(\"Unsupported type\")\n",
    "\n",
    "# Example usage:\n",
    "printer = Printer()\n",
    "printer.print_value(\"Hello\")  # Output: String: Hello\n",
    "printer.print_value(42)       # Output: Integer: 42\n",
    "printer.print_value(3.14)     # Output: Unsupported type\n"
   ]
  },
  {
   "cell_type": "code",
   "execution_count": null,
   "metadata": {},
   "outputs": [],
   "source": [
    "# 5. What are the three types of access modifiers in Python? How are they denoted?"
   ]
  },
  {
   "cell_type": "markdown",
   "metadata": {},
   "source": [
    "In Python, access modifiers are used to define the visibility or accessibility of class members (attributes and methods). There are three main types of access modifiers:\n",
    "1. Public:\n",
    "Denotation: No underscore before the attribute or method name.\n",
    "Accessibility: Public members are accessible from anywhere—both inside and outside the class."
   ]
  },
  {
   "cell_type": "code",
   "execution_count": 5,
   "metadata": {},
   "outputs": [
    {
     "name": "stdout",
     "output_type": "stream",
     "text": [
      "I am protected\n"
     ]
    }
   ],
   "source": [
    "class MyClass:\n",
    "    def __init__(self):\n",
    "        self._protected_attribute = \"I am protected\"\n",
    "\n",
    "class SubClass(MyClass):\n",
    "    def show(self):\n",
    "        print(self._protected_attribute)  # Accessible in subclass\n",
    "\n",
    "obj = SubClass()\n",
    "obj.show()\n"
   ]
  },
  {
   "cell_type": "markdown",
   "metadata": {},
   "source": [
    "2. Protected:\n",
    "Denotation: A single underscore (_) before the attribute or method name.\n",
    "Accessibility: Protected members are intended to be accessed only within the class and by subclasses. They are not strictly enforced, but it is a convention to indicate that they should not be accessed from outside the class hierarchy."
   ]
  },
  {
   "cell_type": "code",
   "execution_count": 6,
   "metadata": {},
   "outputs": [
    {
     "name": "stdout",
     "output_type": "stream",
     "text": [
      "I am protected\n"
     ]
    }
   ],
   "source": [
    "class MyClass:\n",
    "    def __init__(self):\n",
    "        self._protected_attribute = \"I am protected\"\n",
    "\n",
    "class SubClass(MyClass):\n",
    "    def show(self):\n",
    "        print(self._protected_attribute)  # Accessible in subclass\n",
    "\n",
    "obj = SubClass()\n",
    "obj.show()\n"
   ]
  },
  {
   "cell_type": "markdown",
   "metadata": {},
   "source": [
    "3. Private:\n",
    "Denotation: Two underscores (__) before the attribute or method name.\n",
    "Accessibility: Private members are intended to be accessible only within the class in which they are defined. They are subject to name mangling, which means that their names are changed to include the class name, making them harder to access from outside the class."
   ]
  },
  {
   "cell_type": "code",
   "execution_count": 7,
   "metadata": {},
   "outputs": [
    {
     "name": "stdout",
     "output_type": "stream",
     "text": [
      "I am private\n"
     ]
    }
   ],
   "source": [
    "class MyClass:\n",
    "    def __init__(self):\n",
    "        self.__private_attribute = \"I am private\"\n",
    "\n",
    "    def get_private(self):\n",
    "        return self.__private_attribute  # Accessible within the class\n",
    "\n",
    "obj = MyClass()\n",
    "print(obj.get_private())  # Works\n",
    "# print(obj.__private_attribute)  # Raises AttributeError"
   ]
  },
  {
   "cell_type": "code",
   "execution_count": null,
   "metadata": {},
   "outputs": [],
   "source": [
    "# 6. Describe the five types of inheritance in Python. Provide a simple example of multiple inheritance."
   ]
  },
  {
   "cell_type": "code",
   "execution_count": 8,
   "metadata": {},
   "outputs": [
    {
     "name": "stdout",
     "output_type": "stream",
     "text": [
      "Animal speaks\n"
     ]
    }
   ],
   "source": [
    "# Single Inheritance: A class inherits from a single superclass (parent).\n",
    "class Animal:\n",
    "    def speak(self):\n",
    "        return \"Animal speaks\"\n",
    "\n",
    "class Dog(Animal):\n",
    "    def bark(self):\n",
    "        return \"Dog barks\"\n",
    "\n",
    "dog = Dog()\n",
    "print(dog.speak())  # Output: Animal speaks"
   ]
  },
  {
   "cell_type": "code",
   "execution_count": 9,
   "metadata": {},
   "outputs": [
    {
     "name": "stdout",
     "output_type": "stream",
     "text": [
      "Barks\n",
      "Meows\n"
     ]
    }
   ],
   "source": [
    "# Multiple Inheritance: A class can inherit from multiple classes.\n",
    "class Canine:\n",
    "    def bark(self):\n",
    "        return \"Barks\"\n",
    "\n",
    "class Feline:\n",
    "    def meow(self):\n",
    "        return \"Meows\"\n",
    "\n",
    "class Dog(Canine, Feline):\n",
    "    pass\n",
    "\n",
    "dog = Dog()\n",
    "print(dog.bark())  # Output: Barks\n",
    "print(dog.meow())  # Output: Meows\n"
   ]
  },
  {
   "cell_type": "code",
   "execution_count": 10,
   "metadata": {},
   "outputs": [
    {
     "name": "stdout",
     "output_type": "stream",
     "text": [
      "Animal speaks\n",
      "Dog barks\n",
      "Puppy yelps\n"
     ]
    }
   ],
   "source": [
    "# Multilevel Inheritance:A class inherits from a class that is already a child of another class.\n",
    "class Animal:\n",
    "    def speak(self):\n",
    "        return \"Animal speaks\"\n",
    "\n",
    "class Dog(Animal):\n",
    "    def bark(self):\n",
    "        return \"Dog barks\"\n",
    "\n",
    "class Puppy(Dog):\n",
    "    def yelp(self):\n",
    "        return \"Puppy yelps\"\n",
    "\n",
    "puppy = Puppy()\n",
    "print(puppy.speak())  # Output: Animal speaks\n",
    "print(puppy.bark())   # Output: Dog barks\n",
    "print(puppy.yelp())   # Output: Puppy yelps\n"
   ]
  },
  {
   "cell_type": "code",
   "execution_count": 11,
   "metadata": {},
   "outputs": [
    {
     "name": "stdout",
     "output_type": "stream",
     "text": [
      "Animal speaks\n",
      "Animal speaks\n"
     ]
    }
   ],
   "source": [
    "# Hierarchical Inheritance: Multiple classes inherit from a single parent class.\n",
    "class Animal:\n",
    "    def speak(self):\n",
    "        return \"Animal speaks\"\n",
    "\n",
    "class Dog(Animal):\n",
    "    def bark(self):\n",
    "        return \"Dog barks\"\n",
    "\n",
    "class Cat(Animal):\n",
    "    def meow(self):\n",
    "        return \"Cat meows\"\n",
    "\n",
    "dog = Dog()\n",
    "cat = Cat()\n",
    "print(dog.speak())  # Output: Animal speaks\n",
    "print(cat.speak())  # Output: Animal speaks\n"
   ]
  },
  {
   "cell_type": "code",
   "execution_count": 12,
   "metadata": {},
   "outputs": [
    {
     "name": "stdout",
     "output_type": "stream",
     "text": [
      "Base method\n",
      "Derived1 method\n",
      "Derived2 method\n"
     ]
    }
   ],
   "source": [
    "#Hybrid Inheritance: A combination of two or more types of inheritance. \n",
    "# It can involve a mix of single, multiple, multilevel, and hierarchical inheritance.\n",
    "class Base:\n",
    "    def base_method(self):\n",
    "        return \"Base method\"\n",
    "\n",
    "class Derived1(Base):\n",
    "    def derived1_method(self):\n",
    "        return \"Derived1 method\"\n",
    "\n",
    "class Derived2(Base):\n",
    "    def derived2_method(self):\n",
    "        return \"Derived2 method\"\n",
    "\n",
    "class Hybrid(Derived1, Derived2):\n",
    "    def hybrid_method(self):\n",
    "        return \"Hybrid method\"\n",
    "\n",
    "hybrid = Hybrid()\n",
    "print(hybrid.base_method())       # Output: Base method\n",
    "print(hybrid.derived1_method())   # Output: Derived1 method\n",
    "print(hybrid.derived2_method())   # Output: Derived2 method\n",
    "\n"
   ]
  },
  {
   "cell_type": "code",
   "execution_count": null,
   "metadata": {},
   "outputs": [],
   "source": [
    "# 7. What is the Method Resolution Order (MRO) in Python? How can you retrieve it programmatically?"
   ]
  },
  {
   "cell_type": "markdown",
   "metadata": {},
   "source": [
    "Python uses a technique called Method Resolution Order (MRO) to specify the sequence in which base classes are examined when a method is sought. When there is multiple inheritance, which occurs when a class can inherit from numerous parent classes, this is especially crucial. A constant and predictable resolution of the method calls is guaranteed by the MRO.\n",
    "\n",
    "Python provides a method for creating a linear ordering of classes based on the inheritance hierarchy by using the C3 linearization technique to compute the MRO. A parent appears before their siblings, and a class appears before its parents, according to the MRO promise."
   ]
  },
  {
   "cell_type": "code",
   "execution_count": 13,
   "metadata": {},
   "outputs": [
    {
     "name": "stdout",
     "output_type": "stream",
     "text": [
      "(<class '__main__.D'>, <class '__main__.B'>, <class '__main__.C'>, <class '__main__.A'>, <class 'object'>)\n",
      "[<class '__main__.D'>, <class '__main__.B'>, <class '__main__.C'>, <class '__main__.A'>, <class 'object'>]\n"
     ]
    }
   ],
   "source": [
    "# To Retrieve MRO Programmatically using the __mro__ attribute or the mro() method. Both will give  the same result.\n",
    "class A:\n",
    "    pass\n",
    "\n",
    "class B(A):\n",
    "    pass\n",
    "\n",
    "class C(A):\n",
    "    pass\n",
    "\n",
    "class D(B, C):\n",
    "    pass\n",
    "\n",
    "# Retrieve MRO\n",
    "print(D.__mro__)  # Output: (<class '__main__.D'>, <class '__main__.B'>, <class '__main__.C'>, <class '__main__.A'>, <class 'object'>)\n",
    "print(D.mro())    # Output: [<class '__main__.D'>, <class '__main__.B'>, <class '__main__.C'>, <class '__main__.A'>, <class 'object'>]\n",
    "\n"
   ]
  },
  {
   "cell_type": "code",
   "execution_count": null,
   "metadata": {},
   "outputs": [],
   "source": [
    "# 8. Create an abstract base class `Shape` with an abstract method area().\n",
    "#  Then create two subclasses `Circle` and `Rectangle` that implement the area() method."
   ]
  },
  {
   "cell_type": "markdown",
   "metadata": {},
   "source": [
    "To create an abstract base class in Python, you can use the abc module, which provides the infrastructure for defining Abstract Base Classes (ABCs). Below is an implementation of an abstract base class Shape with an abstract method area(), along with two subclasses, Circle and Rectangle, that implement the area() method."
   ]
  },
  {
   "cell_type": "code",
   "execution_count": 14,
   "metadata": {},
   "outputs": [
    {
     "name": "stdout",
     "output_type": "stream",
     "text": [
      "Circle area: 78.54\n",
      "Rectangle area: 24.00\n"
     ]
    }
   ],
   "source": [
    "from abc import ABC, abstractmethod\n",
    "import math\n",
    "\n",
    "# Abstract base class\n",
    "class Shape(ABC):\n",
    "    @abstractmethod\n",
    "    def area(self):\n",
    "        pass\n",
    "\n",
    "# Subclass for Circle\n",
    "class Circle(Shape):\n",
    "    def __init__(self, radius):\n",
    "        self.radius = radius\n",
    "\n",
    "    def area(self):\n",
    "        return math.pi * (self.radius ** 2)\n",
    "\n",
    "# Subclass for Rectangle\n",
    "class Rectangle(Shape):\n",
    "    def __init__(self, width, height):\n",
    "        self.width = width\n",
    "        self.height = height\n",
    "\n",
    "    def area(self):\n",
    "        return self.width * self.height\n",
    "\n",
    "# Example usage\n",
    "circle = Circle(5)\n",
    "rectangle = Rectangle(4, 6)\n",
    "\n",
    "print(f\"Circle area: {circle.area():.2f}\")       # Output: Circle area: 78.54\n",
    "print(f\"Rectangle area: {rectangle.area():.2f}\") # Output: Rectangle area: 24.00\n"
   ]
  },
  {
   "cell_type": "markdown",
   "metadata": {},
   "source": [
    "Explanation\n",
    "Abstract Base Class (Shape):\n",
    "> The Shape class inherits from ABC, which stands for Abstract Base Class.The area method is decorated with @abstractmethod, \n",
    "indicating that any subclass must implement this method.\n",
    "\n",
    "> Circle Class: The Circle class inherits from Shape.\n",
    "It has an __init__ method to set the radius and implements the area method using the formula for the area of a circle: \n",
    "\n",
    "> Rectangle Class:\n",
    "The Rectangle class also inherits from Shape.\n",
    "It has an __init__ method to set the width and height and implements the area method using the formula for the area of a rectangle: width × height.\n",
    "Example Usage:\n",
    "Instances of Circle and Rectangle are created, and their area methods are called to print the areas."
   ]
  },
  {
   "cell_type": "code",
   "execution_count": null,
   "metadata": {},
   "outputs": [],
   "source": [
    "# 9. Demonstrate polymorphism by creating a function that can work with different shape objects to calculate and print their areas."
   ]
  },
  {
   "cell_type": "markdown",
   "metadata": {},
   "source": [
    "Polymorphism allows objects of different classes to be treated as objects of a common superclass. In the context of shapes, you can create a function that takes a Shape object (or any subclass of Shape) and calculates its area, demonstrating polymorphism."
   ]
  },
  {
   "cell_type": "code",
   "execution_count": 15,
   "metadata": {},
   "outputs": [
    {
     "name": "stdout",
     "output_type": "stream",
     "text": [
      "The area is: 78.54\n",
      "The area is: 24.00\n"
     ]
    }
   ],
   "source": [
    "from abc import ABC, abstractmethod\n",
    "import math\n",
    "\n",
    "# Abstract base class\n",
    "class Shape(ABC):\n",
    "    @abstractmethod\n",
    "    def area(self):\n",
    "        pass\n",
    "\n",
    "# Subclass for Circle\n",
    "class Circle(Shape):\n",
    "    def __init__(self, radius):\n",
    "        self.radius = radius\n",
    "\n",
    "    def area(self):\n",
    "        return math.pi * (self.radius ** 2)\n",
    "\n",
    "# Subclass for Rectangle\n",
    "class Rectangle(Shape):\n",
    "    def __init__(self, width, height):\n",
    "        self.width = width\n",
    "        self.height = height\n",
    "\n",
    "    def area(self):\n",
    "        return self.width * self.height\n",
    "\n",
    "# Function that works with different shape objects\n",
    "def print_area(shape):\n",
    "    print(f\"The area is: {shape.area():.2f}\")\n",
    "\n",
    "# Example usage\n",
    "circle = Circle(5)\n",
    "rectangle = Rectangle(4, 6)\n",
    "\n",
    "print_area(circle)      # Output: The area is: 78.54\n",
    "print_area(rectangle)   # Output: The area is: 24.00\n"
   ]
  },
  {
   "cell_type": "markdown",
   "metadata": {},
   "source": [
    "\n",
    "Abstract Base Class (Shape):The Shape class remains unchanged, serving as a base class with an abstract area() method.\n",
    "\n",
    "Subclasses (Circle and Rectangle): Both Circle and Rectangle implement the area() method, allowing them to provide their specific area calculations.\n",
    "Polymorphic Function (print_area):The print_area function takes a parameter of type Shape. It calls the area() method on the passed shape object, which can be a Circle, a Rectangle, or any other subclass of Shape.\n",
    "This demonstrates polymorphism, as print_area can operate on any object that is an instance of a subclass of Shape.\n",
    "\n",
    "Example Usage:\n",
    "Instances of Circle and Rectangle are created.\n",
    "The print_area function is called with each shape, and it correctly calculates and prints their areas.\n",
    "This example illustrates how polymorphism allows different shape objects to be handled in a uniform way through a common interface (the Shape class), making the code more flexible and extensible."
   ]
  },
  {
   "cell_type": "code",
   "execution_count": null,
   "metadata": {},
   "outputs": [],
   "source": [
    "#10. Implement encapsulation in a 'BankAccount' class with private attributes for 'balance' and 'account_number'. Include methods for deposit, withdrawal, and balance inquiry."
   ]
  },
  {
   "cell_type": "markdown",
   "metadata": {},
   "source": [
    "Implementation of a 'Bank Account' class that demonstrates encapsulation by using private attributes for balance and account_number. \n",
    "This class includes methods for depositing money, withdrawing money, and checking the account balance."
   ]
  },
  {
   "cell_type": "code",
   "execution_count": 16,
   "metadata": {},
   "outputs": [
    {
     "name": "stdout",
     "output_type": "stream",
     "text": [
      "Initial Balance: $1000.00\n",
      "Deposited: $500.00\n",
      "Balance after deposit: $1500.00\n",
      "Withdrew: $300.00\n",
      "Balance after withdrawal: $1200.00\n",
      "Insufficient funds.\n",
      "Final Balance: $1200.00\n"
     ]
    }
   ],
   "source": [
    "class BankAccount:\n",
    "    def __init__(self, account_number, initial_balance=0):\n",
    "        self.__account_number = account_number  # Private attribute\n",
    "        self.__balance = initial_balance          # Private attribute\n",
    "\n",
    "    def deposit(self, amount):\n",
    "        if amount > 0:\n",
    "            self.__balance += amount\n",
    "            print(f\"Deposited: ${amount:.2f}\")\n",
    "        else:\n",
    "            print(\"Deposit amount must be positive.\")\n",
    "\n",
    "    def withdraw(self, amount):\n",
    "        if 0 < amount <= self.__balance:\n",
    "            self.__balance -= amount\n",
    "            print(f\"Withdrew: ${amount:.2f}\")\n",
    "        elif amount > self.__balance:\n",
    "            print(\"Insufficient funds.\")\n",
    "        else:\n",
    "            print(\"Withdrawal amount must be positive.\")\n",
    "\n",
    "    def get_balance(self):\n",
    "        return self.__balance\n",
    "\n",
    "    def get_account_number(self):\n",
    "        return self.__account_number\n",
    "\n",
    "# Example usage\n",
    "account = BankAccount(\"123456789\", 1000)\n",
    "\n",
    "# Inquiry of balance\n",
    "print(f\"Initial Balance: ${account.get_balance():.2f}\")\n",
    "\n",
    "# Deposit\n",
    "account.deposit(500)\n",
    "print(f\"Balance after deposit: ${account.get_balance():.2f}\")\n",
    "\n",
    "# Withdrawal\n",
    "account.withdraw(300)\n",
    "print(f\"Balance after withdrawal: ${account.get_balance():.2f}\")\n",
    "\n",
    "# Attempt to withdraw more than the balance\n",
    "account.withdraw(1500)\n",
    "\n",
    "# Final balance inquiry\n",
    "print(f\"Final Balance: ${account.get_balance():.2f}\")\n"
   ]
  },
  {
   "cell_type": "markdown",
   "metadata": {},
   "source": [
    "Private Attributes: The attributes __account_number and __balance are declared private by prefixing them with double underscores (__). This restricts direct access from outside the class.\n",
    "\n",
    "Constructor: The __init__ method initializes the account_number and balance. The initial balance can be set with a default value of 0.\n",
    "\n",
    "Deposit Method: The deposit method allows adding a positive amount to the balance. It checks if the amount is positive before proceeding.\n",
    "\n",
    "Withdraw Method: The withdraw method checks that the amount is positive and does not exceed the current balance before deducting it. It handles insufficient funds and invalid input.\n",
    "\n",
    "Get Balance Method: The get_balance method returns the current balance, allowing the user to check the balance without modifying it.\n",
    "\n",
    "Get Account Number Method: The get_account_number method returns the account number, maintaining encapsulation.\n",
    "\n",
    "\n",
    "Example Usage\n",
    "An instance of 'BankAccount' is created with an account number and an initial balance.\n",
    "The methods are called to demonstrate deposits, withdrawals, and balance inquiries, all while ensuring that the private attributes are manipulated only through the defined methods, demonstrating encapsulation effectively."
   ]
  },
  {
   "cell_type": "code",
   "execution_count": null,
   "metadata": {},
   "outputs": [],
   "source": [
    "# 11. Write a class that overrides the `__str__` and `__add__` magic methods. What will these methods allow you to do?"
   ]
  },
  {
   "cell_type": "markdown",
   "metadata": {},
   "source": [
    "In Python, the __str__ and __add__ magic methods allow you to customize the string representation of an object and define how objects of a \n",
    "class can be added together, respectively."
   ]
  },
  {
   "cell_type": "code",
   "execution_count": 17,
   "metadata": {},
   "outputs": [
    {
     "name": "stdout",
     "output_type": "stream",
     "text": [
      "Vector(2, 3)\n",
      "Vector(4, 5)\n",
      "Vector(6, 8)\n"
     ]
    }
   ],
   "source": [
    "class Vector:\n",
    "    def __init__(self, x, y):\n",
    "        self.x = x\n",
    "        self.y = y\n",
    "\n",
    "    def __str__(self):\n",
    "        return f\"Vector({self.x}, {self.y})\"\n",
    "\n",
    "    def __add__(self, other):\n",
    "        if isinstance(other, Vector):\n",
    "            return Vector(self.x + other.x, self.y + other.y)\n",
    "        return NotImplemented\n",
    "\n",
    "# Example usage\n",
    "v1 = Vector(2, 3)\n",
    "v2 = Vector(4, 5)\n",
    "\n",
    "# Using the __str__ method\n",
    "print(v1)  # Output: Vector(2, 3)\n",
    "print(v2)  # Output: Vector(4, 5)\n",
    "\n",
    "# Using the __add__ method\n",
    "v3 = v1 + v2\n",
    "print(v3)  # Output: Vector(6, 8)\n"
   ]
  },
  {
   "cell_type": "markdown",
   "metadata": {},
   "source": [
    "Constructor (__init__): The Vector class is initialized with x and y coordinates.\n",
    "\n",
    "String Representation (__str__):The __str__ method returns a string that represents the object in a readable format. When you call print(v1), it will output Vector(2, 3), which is more informative than the default representation.\n",
    "\n",
    "Addition (__add__): The __add__ method allows you to define how two Vector objects can be added together using the + operator.\n",
    "\n",
    "In this case, it checks if the other object is an instance of Vector and then returns a new Vector object whose coordinates are the sum of the corresponding coordinates of the two vectors. If other is not a Vector, it returns NotImplemented, which allows Python to handle the operation appropriately."
   ]
  },
  {
   "cell_type": "code",
   "execution_count": null,
   "metadata": {},
   "outputs": [],
   "source": [
    "# 12. Create a decorator that measures and prints the execution time of a function."
   ]
  },
  {
   "cell_type": "code",
   "execution_count": 18,
   "metadata": {},
   "outputs": [
    {
     "name": "stdout",
     "output_type": "stream",
     "text": [
      "Execution time of sample_function: 0.062405 seconds\n",
      "Result: 499999500000\n"
     ]
    }
   ],
   "source": [
    "# Decorator in Python to measure and print the execution time of a function using the time module.\n",
    "\n",
    "import time\n",
    "\n",
    "def timing_decorator(func):\n",
    "    def wrapper(*args, **kwargs):\n",
    "        start_time = time.time()  # Record the start time\n",
    "        result = func(*args, **kwargs)  # Call the original function\n",
    "        end_time = time.time()  # Record the end time\n",
    "        execution_time = end_time - start_time  # Calculate the duration\n",
    "        print(f\"Execution time of {func.__name__}: {execution_time:.6f} seconds\")\n",
    "        return result  # Return the result of the original function\n",
    "    return wrapper\n",
    "\n",
    "# Example usage\n",
    "@timing_decorator\n",
    "def sample_function(n):\n",
    "    total = 0\n",
    "    for i in range(n):\n",
    "        total += i\n",
    "    return total\n",
    "\n",
    "# Call the decorated function\n",
    "result = sample_function(1000000)\n",
    "print(f\"Result: {result}\")\n"
   ]
  },
  {
   "cell_type": "markdown",
   "metadata": {},
   "source": [
    "Importing the Time Module: The time module is imported to access the current time.\n",
    "\n",
    "Defining the Decorator (timing_decorator):The decorator takes a function (func) as an argument and defines an inner function (wrapper) that will wrap the original function.The wrapper function accepts any positional (*args) and keyword arguments (**kwargs) to allow for flexibility in the functions it decorates.\n",
    "\n",
    "Measuring Execution Time: Inside the wrapper, time.time() is called before and after the original function is executed to get the start and end times.The execution time is calculated by subtracting the start time from the end time.\n",
    "\n",
    "Printing Execution Time:The execution time is printed with the function name for clarity.\n",
    "\n",
    "Returning the Result: The wrapper function returns the result of the original function call.\n",
    "\n",
    "Using the Decorator:The @timing_decorator syntax is used to apply the decorator to the sample_function.\n",
    "When sample_function is called, it will now execute with the timing functionality included.\n"
   ]
  },
  {
   "cell_type": "code",
   "execution_count": null,
   "metadata": {},
   "outputs": [],
   "source": [
    "# 13. Explain the concept of the Diamond Problem in multiple inheritance. How does Python resolve it?\n"
   ]
  },
  {
   "cell_type": "markdown",
   "metadata": {},
   "source": [
    "The Diamond Problem is a common issue in object-oriented programming languages that support multiple inheritance. It arises when a class inherits from two classes that both inherit from a common superclass. This creates a \"diamond\" shape in the inheritance hierarchy, where a method or attribute may be inherited from two different paths.\n",
    "\n",
    "Python solves the Diamond Problem using the C3 linearization algorithm. By producing a linear order of the classes, this technique guarantees a consistent and clear method resolution order (MRO). Python checks the MRO to determine the order in which classes are searched for the method. You can view the MRO of a class using the __mro__ attribute or the mro() method."
   ]
  },
  {
   "cell_type": "code",
   "execution_count": 19,
   "metadata": {},
   "outputs": [
    {
     "name": "stdout",
     "output_type": "stream",
     "text": [
      "Hello from B\n",
      "(<class '__main__.D'>, <class '__main__.B'>, <class '__main__.C'>, <class '__main__.A'>, <class 'object'>)\n"
     ]
    }
   ],
   "source": [
    "class A:\n",
    "    def greet(self):\n",
    "        return \"Hello from A\"\n",
    "\n",
    "class B(A):\n",
    "    def greet(self):\n",
    "        return \"Hello from B\"\n",
    "\n",
    "class C(A):\n",
    "    def greet(self):\n",
    "        return \"Hello from C\"\n",
    "\n",
    "class D(B, C):\n",
    "    pass\n",
    "\n",
    "# Create an instance of D\n",
    "d = D()\n",
    "\n",
    "# Call the greet method\n",
    "print(d.greet())  # Output: Hello from B\n",
    "\n",
    "# Check the MRO\n",
    "print(D.__mro__)  # Output: (<class '__main__.D'>, <class '__main__.B'>, <class '__main__.C'>, <class '__main__.A'>, <class 'object'>)\n"
   ]
  },
  {
   "cell_type": "code",
   "execution_count": null,
   "metadata": {},
   "outputs": [],
   "source": [
    "# 14. Write a class method that keeps track of the number of instances created from a class."
   ]
  },
  {
   "cell_type": "markdown",
   "metadata": {},
   "source": [
    "Class Variable:instance_count is a class variable that keeps track of the number of instances created. It is shared across all \n",
    "instances of the class.\n",
    "\n",
    "Constructor (__init__): The __init__ method increments the instance_count by 1 each time a new instance of InstanceCounter is \n",
    "created.\n",
    "\n",
    "Class Method (get_instance_count): The get_instance_count method is decorated with @classmethod, allowing it to access the class \n",
    "variable instance_count through the cls parameter. This method returns the total number of instances created."
   ]
  },
  {
   "cell_type": "code",
   "execution_count": 20,
   "metadata": {},
   "outputs": [
    {
     "name": "stdout",
     "output_type": "stream",
     "text": [
      "Number of instances created: 3\n"
     ]
    }
   ],
   "source": [
    "class InstanceCounter:\n",
    "    instance_count = 0  # Class variable to keep track of instances\n",
    "\n",
    "    def __init__(self):\n",
    "        InstanceCounter.instance_count += 1  # Increment the count on each instance creation\n",
    "\n",
    "    @classmethod\n",
    "    def get_instance_count(cls):\n",
    "        return cls.instance_count  # Return the current instance count\n",
    "\n",
    "# Example usage\n",
    "if __name__ == \"__main__\":\n",
    "    obj1 = InstanceCounter()\n",
    "    obj2 = InstanceCounter()\n",
    "    obj3 = InstanceCounter()\n",
    "\n",
    "    print(f\"Number of instances created: {InstanceCounter.get_instance_count()}\")  # Output: 3\n"
   ]
  },
  {
   "cell_type": "code",
   "execution_count": null,
   "metadata": {},
   "outputs": [],
   "source": [
    "# 15. Implement a static method in a class that checks if a given year is a leap year.\n"
   ]
  },
  {
   "cell_type": "code",
   "execution_count": null,
   "metadata": {},
   "outputs": [],
   "source": [
    "# A year is considered a leap year if:\n",
    "# It is divisible by 4.\n",
    "# However, if it is divisible by 100, it must also be divisible by 400 to be considered a leap year."
   ]
  },
  {
   "cell_type": "code",
   "execution_count": 21,
   "metadata": {},
   "outputs": [
    {
     "name": "stdout",
     "output_type": "stream",
     "text": [
      "2000 is a leap year.\n",
      "2004 is a leap year.\n",
      "1900 is not a leap year.\n",
      "2021 is not a leap year.\n",
      "2024 is a leap year.\n"
     ]
    }
   ],
   "source": [
    "class YearUtils:\n",
    "    @staticmethod\n",
    "    def is_leap_year(year):\n",
    "        \"\"\"Check if a given year is a leap year.\"\"\"\n",
    "        if (year % 4 == 0 and year % 100 != 0) or (year % 400 == 0):\n",
    "            return True\n",
    "        return False\n",
    "\n",
    "# Example usage\n",
    "if __name__ == \"__main__\":\n",
    "    test_years = [2000, 2004, 1900, 2021, 2024]\n",
    "    \n",
    "    for year in test_years:\n",
    "        if YearUtils.is_leap_year(year):\n",
    "            print(f\"{year} is a leap year.\")\n",
    "        else:\n",
    "            print(f\"{year} is not a leap year.\")\n"
   ]
  },
  {
   "cell_type": "code",
   "execution_count": null,
   "metadata": {},
   "outputs": [],
   "source": []
  }
 ],
 "metadata": {
  "kernelspec": {
   "display_name": "Python 3",
   "language": "python",
   "name": "python3"
  },
  "language_info": {
   "codemirror_mode": {
    "name": "ipython",
    "version": 3
   },
   "file_extension": ".py",
   "mimetype": "text/x-python",
   "name": "python",
   "nbconvert_exporter": "python",
   "pygments_lexer": "ipython3",
   "version": "3.10.0"
  }
 },
 "nbformat": 4,
 "nbformat_minor": 2
}
